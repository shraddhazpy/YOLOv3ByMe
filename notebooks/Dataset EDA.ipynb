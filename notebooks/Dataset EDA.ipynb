{
 "cells": [
  {
   "cell_type": "markdown",
   "metadata": {},
   "source": [
    "# Malaria Bounding Boxes"
   ]
  },
  {
   "cell_type": "markdown",
   "metadata": {},
   "source": [
    "Dataset courtesy - https://www.kaggle.com/kmader/malaria-bounding-boxes"
   ]
  },
  {
   "cell_type": "markdown",
   "metadata": {},
   "source": [
    "## Context"
   ]
  },
  {
   "cell_type": "markdown",
   "metadata": {},
   "source": [
    "Malaria is a disease caused by Plasmodium parasites that remains a major threat in global health, affecting 200 million people and causing 400,000 deaths a year. The main species of malaria that affect humans are Plasmodium falciparum and Plasmodium vivax.\n",
    "\n",
    "For malaria as well as other microbial infections, manual inspection of thick and thin blood smears by trained microscopists remains the gold standard for parasite detection and stage determination because of its low reagent and instrument cost and high flexibility. Despite manual inspection being extremely low throughput and susceptible to human bias, automatic counting software remains largely unused because of the wide range of variations in brightfield microscopy images. However, a robust automatic counting and cell classification solution would provide enormous benefits due to faster and more accurate quantitative results without human variability; researchers and medical professionals could better characterize stage-specific drug targets and better quantify patient reactions to drugs.\n",
    "\n",
    "Previous attempts to automate the process of identifying and quantifying malaria have not gained major traction partly due to difficulty of replication, comparison, and extension. Authors also rarely make their image sets available, which precludes replication of results and assessment of potential improvements. The lack of a standard set of images nor standard set of metrics used to report results has impeded the field.\n",
    "\n",
    "#### Courtesy - https://www.kaggle.com/kmader/malaria-bounding-boxes"
   ]
  },
  {
   "cell_type": "markdown",
   "metadata": {},
   "source": [
    "## Content"
   ]
  },
  {
   "cell_type": "markdown",
   "metadata": {},
   "source": [
    "Images are in .png or .jpg format. There are 3 sets of images consisting of 1364 images (~80,000 cells) with different researchers having prepared each one: from Brazil (Stefanie Lopes), from Southeast Asia (Benoit Malleret), and time course (Gabriel Rangel). Blood smears were stained with Giemsa reagent.\n",
    "\n",
    "Labels\n",
    "The data consists of two classes of uninfected cells (RBCs and leukocytes) and four classes of infected cells (gametocytes, rings, trophozoites, and schizonts). Annotators were permitted to mark some cells as difficult if not clearly in one of the cell classes. The data had a heavy imbalance towards uninfected RBCs versus uninfected leukocytes and infected cells, making up over 95% of all cells.\n",
    "\n",
    "A class label and set of bounding box coordinates were given for each cell. For all data sets, infected cells were given a class label by Stefanie Lopes, malaria researcher at the Dr. Heitor Vieira Dourado Tropical Medicine Foundation hospital, indicating stage of development or marked as difficult.\n",
    "\n",
    "#### Courtesy - https://www.kaggle.com/kmader/malaria-bounding-boxes"
   ]
  },
  {
   "cell_type": "markdown",
   "metadata": {},
   "source": [
    "## Problem statement"
   ]
  },
  {
   "cell_type": "markdown",
   "metadata": {},
   "source": [
    "This is an object detection problem wherein given a test image the algorithm has to determine the following:\n",
    "1. The objects/cells present in the images of the blood smears\n",
    "2. A class label along with the class probability assigned to each of the objects/cells detected in the image\n",
    "3. The location, determined by the bounding box coordinates, for each of the objects detected "
   ]
  },
  {
   "cell_type": "markdown",
   "metadata": {},
   "source": [
    "## Exploratory Data Analysis"
   ]
  },
  {
   "cell_type": "markdown",
   "metadata": {},
   "source": [
    "### 1. Importing the libraries"
   ]
  },
  {
   "cell_type": "code",
   "execution_count": 68,
   "metadata": {},
   "outputs": [],
   "source": [
    "import numpy as np\n",
    "import os\n",
    "import json\n",
    "import cv2\n",
    "import matplotlib.pyplot as plt\n",
    "from collections import Counter"
   ]
  },
  {
   "cell_type": "markdown",
   "metadata": {},
   "source": [
    "1. How many images?\n",
    "2. How many objects and their count?\n",
    "3. Average no of objects in an image\n",
    "4. "
   ]
  },
  {
   "cell_type": "code",
   "execution_count": 25,
   "metadata": {},
   "outputs": [
    {
     "name": "stdout",
     "output_type": "stream",
     "text": [
      "The directory path is valid\n"
     ]
    }
   ],
   "source": [
    "data_subdir ='data/malaria'\n",
    "abs_path= os.path.abspath(os.getcwd() +'/..')\n",
    "data_dir= os.path.join(abs_path,data_subdir)\n",
    "if os.path.isdir(data_dir):\n",
    "    print('The directory path is valid')"
   ]
  },
  {
   "cell_type": "code",
   "execution_count": 34,
   "metadata": {},
   "outputs": [
    {
     "name": "stdout",
     "output_type": "stream",
     "text": [
      "The dir path is --/data/malaria and the dir name is --['images']\n",
      "The dir path is --/data/malaria/images and the dir name is --[]\n"
     ]
    }
   ],
   "source": [
    "for dirpath,dirnames,_ in os.walk(data_dir):\n",
    "    print(f\"The dir path is --{dirpath.replace(abs_path,'')} and the dir name is --{dirnames}\")"
   ]
  },
  {
   "cell_type": "code",
   "execution_count": 42,
   "metadata": {},
   "outputs": [],
   "source": [
    "with open(os.path.join(data_dir,'training.json'),'r') as f:\n",
    "    train_data= json.load(f)"
   ]
  },
  {
   "cell_type": "code",
   "execution_count": 46,
   "metadata": {},
   "outputs": [
    {
     "name": "stdout",
     "output_type": "stream",
     "text": [
      "The number of images in the train data are 1208\n"
     ]
    }
   ],
   "source": [
    "print(f\"The number of images in the train data are {len(train_data)}\")"
   ]
  },
  {
   "cell_type": "code",
   "execution_count": 66,
   "metadata": {},
   "outputs": [
    {
     "data": {
      "text/plain": [
       "{'image': {'checksum': '8b5cb906538df0f49df5e72efef40eaa',\n",
       "  'pathname': '/images/bbf687b5-c6f9-4821-b2e5-a25df1acba47.png',\n",
       "  'shape': {'r': 1200, 'c': 1600, 'channels': 3}},\n",
       " 'objects': [{'bounding_box': {'minimum': {'r': 971, 'c': 1066},\n",
       "    'maximum': {'r': 1095, 'c': 1189}},\n",
       "   'category': 'red blood cell'},\n",
       "  {'bounding_box': {'minimum': {'r': 1079, 'c': 847},\n",
       "    'maximum': {'r': 1191, 'c': 969}},\n",
       "   'category': 'red blood cell'},\n",
       "  {'bounding_box': {'minimum': {'r': 110, 'c': 806},\n",
       "    'maximum': {'r': 235, 'c': 958}},\n",
       "   'category': 'red blood cell'},\n",
       "  {'bounding_box': {'minimum': {'r': 316, 'c': 771},\n",
       "    'maximum': {'r': 432, 'c': 929}},\n",
       "   'category': 'red blood cell'},\n",
       "  {'bounding_box': {'minimum': {'r': 21, 'c': 1061},\n",
       "    'maximum': {'r': 146, 'c': 1191}},\n",
       "   'category': 'red blood cell'},\n",
       "  {'bounding_box': {'minimum': {'r': 798, 'c': 1392},\n",
       "    'maximum': {'r': 927, 'c': 1531}},\n",
       "   'category': 'red blood cell'},\n",
       "  {'bounding_box': {'minimum': {'r': 703, 'c': 377},\n",
       "    'maximum': {'r': 830, 'c': 498}},\n",
       "   'category': 'red blood cell'},\n",
       "  {'bounding_box': {'minimum': {'r': 214, 'c': 1251},\n",
       "    'maximum': {'r': 344, 'c': 1388}},\n",
       "   'category': 'red blood cell'},\n",
       "  {'bounding_box': {'minimum': {'r': 564, 'c': 421},\n",
       "    'maximum': {'r': 702, 'c': 556}},\n",
       "   'category': 'gametocyte'}]}"
      ]
     },
     "execution_count": 66,
     "metadata": {},
     "output_type": "execute_result"
    }
   ],
   "source": [
    "train_data[9]"
   ]
  },
  {
   "cell_type": "code",
   "execution_count": 57,
   "metadata": {},
   "outputs": [
    {
     "name": "stdout",
     "output_type": "stream",
     "text": [
      "The number of infectious/non-infectious cells in the training data are 80113\n"
     ]
    }
   ],
   "source": [
    "no_images = sum([len(i['objects']) for i in train_data])\n",
    "print('The number of infectious/non-infectious cells in the training data are {}'.format(no_images))"
   ]
  },
  {
   "cell_type": "markdown",
   "metadata": {},
   "source": [
    "### Checking the no of cells per image"
   ]
  },
  {
   "cell_type": "code",
   "execution_count": 70,
   "metadata": {},
   "outputs": [
    {
     "data": {
      "text/plain": [
       "[(58, 25),\n",
       " (57, 24),\n",
       " (67, 23),\n",
       " (53, 22),\n",
       " (59, 22),\n",
       " (43, 21),\n",
       " (45, 21),\n",
       " (51, 21),\n",
       " (55, 20),\n",
       " (64, 20),\n",
       " (73, 20),\n",
       " (54, 19),\n",
       " (40, 19),\n",
       " (52, 19),\n",
       " (68, 19),\n",
       " (48, 18),\n",
       " (44, 18),\n",
       " (38, 18),\n",
       " (50, 17),\n",
       " (46, 17),\n",
       " (79, 17),\n",
       " (74, 16),\n",
       " (82, 16),\n",
       " (39, 16),\n",
       " (47, 16),\n",
       " (63, 15),\n",
       " (34, 15),\n",
       " (56, 15),\n",
       " (83, 15),\n",
       " (88, 14),\n",
       " (37, 14),\n",
       " (41, 14),\n",
       " (61, 13),\n",
       " (42, 13),\n",
       " (49, 13),\n",
       " (71, 13),\n",
       " (62, 13),\n",
       " (69, 13),\n",
       " (35, 13),\n",
       " (72, 13),\n",
       " (77, 13),\n",
       " (80, 13),\n",
       " (29, 12),\n",
       " (85, 12),\n",
       " (81, 12),\n",
       " (66, 12),\n",
       " (31, 11),\n",
       " (36, 11),\n",
       " (70, 11),\n",
       " (75, 11),\n",
       " (86, 11),\n",
       " (33, 11),\n",
       " (25, 11),\n",
       " (65, 11),\n",
       " (28, 10),\n",
       " (26, 10),\n",
       " (96, 10),\n",
       " (90, 10),\n",
       " (24, 9),\n",
       " (89, 9),\n",
       " (23, 9),\n",
       " (104, 9),\n",
       " (84, 8),\n",
       " (60, 8),\n",
       " (78, 8),\n",
       " (99, 8),\n",
       " (108, 8),\n",
       " (27, 8),\n",
       " (76, 8),\n",
       " (103, 8),\n",
       " (32, 7),\n",
       " (93, 7),\n",
       " (19, 7),\n",
       " (20, 6),\n",
       " (92, 6),\n",
       " (94, 6),\n",
       " (101, 6),\n",
       " (30, 6),\n",
       " (87, 6),\n",
       " (159, 6),\n",
       " (95, 6),\n",
       " (98, 6),\n",
       " (97, 6),\n",
       " (18, 5),\n",
       " (105, 5),\n",
       " (22, 5),\n",
       " (106, 5),\n",
       " (16, 5),\n",
       " (17, 5),\n",
       " (192, 4),\n",
       " (21, 4),\n",
       " (111, 4),\n",
       " (131, 4),\n",
       " (195, 3),\n",
       " (182, 3),\n",
       " (91, 3),\n",
       " (102, 3),\n",
       " (9, 2),\n",
       " (167, 2),\n",
       " (115, 2),\n",
       " (154, 2),\n",
       " (107, 2),\n",
       " (198, 2),\n",
       " (148, 2),\n",
       " (186, 2),\n",
       " (142, 2),\n",
       " (13, 2),\n",
       " (110, 2),\n",
       " (193, 2),\n",
       " (169, 2),\n",
       " (119, 2),\n",
       " (112, 2),\n",
       " (219, 1),\n",
       " (12, 1),\n",
       " (155, 1),\n",
       " (145, 1),\n",
       " (181, 1),\n",
       " (197, 1),\n",
       " (171, 1),\n",
       " (203, 1),\n",
       " (161, 1),\n",
       " (170, 1),\n",
       " (120, 1),\n",
       " (217, 1),\n",
       " (127, 1),\n",
       " (178, 1),\n",
       " (149, 1),\n",
       " (185, 1),\n",
       " (216, 1),\n",
       " (160, 1),\n",
       " (162, 1),\n",
       " (136, 1),\n",
       " (117, 1),\n",
       " (123, 1),\n",
       " (183, 1),\n",
       " (153, 1),\n",
       " (137, 1),\n",
       " (223, 1),\n",
       " (202, 1),\n",
       " (188, 1),\n",
       " (184, 1),\n",
       " (164, 1),\n",
       " (132, 1),\n",
       " (135, 1),\n",
       " (150, 1),\n",
       " (144, 1),\n",
       " (100, 1),\n",
       " (140, 1),\n",
       " (113, 1),\n",
       " (165, 1),\n",
       " (126, 1),\n",
       " (121, 1),\n",
       " (114, 1),\n",
       " (11, 1),\n",
       " (15, 1),\n",
       " (118, 1),\n",
       " (141, 1),\n",
       " (109, 1),\n",
       " (125, 1)]"
      ]
     },
     "execution_count": 70,
     "metadata": {},
     "output_type": "execute_result"
    }
   ],
   "source": [
    "Counter([len(i['objects']) for i in train_data]).most_common()"
   ]
  },
  {
   "cell_type": "code",
   "execution_count": null,
   "metadata": {},
   "outputs": [],
   "source": []
  },
  {
   "cell_type": "code",
   "execution_count": null,
   "metadata": {},
   "outputs": [],
   "source": []
  },
  {
   "cell_type": "code",
   "execution_count": null,
   "metadata": {},
   "outputs": [],
   "source": []
  },
  {
   "cell_type": "code",
   "execution_count": null,
   "metadata": {},
   "outputs": [],
   "source": []
  },
  {
   "cell_type": "code",
   "execution_count": null,
   "metadata": {},
   "outputs": [],
   "source": []
  },
  {
   "cell_type": "code",
   "execution_count": null,
   "metadata": {},
   "outputs": [],
   "source": []
  }
 ],
 "metadata": {
  "kernelspec": {
   "display_name": "Python 3",
   "language": "python",
   "name": "python3"
  },
  "language_info": {
   "codemirror_mode": {
    "name": "ipython",
    "version": 3
   },
   "file_extension": ".py",
   "mimetype": "text/x-python",
   "name": "python",
   "nbconvert_exporter": "python",
   "pygments_lexer": "ipython3",
   "version": "3.8.3"
  }
 },
 "nbformat": 4,
 "nbformat_minor": 4
}
